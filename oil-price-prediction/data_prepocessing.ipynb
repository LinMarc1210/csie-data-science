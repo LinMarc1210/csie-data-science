{
 "cells": [
  {
   "cell_type": "code",
   "execution_count": 2,
   "metadata": {},
   "outputs": [
    {
     "name": "stdout",
     "output_type": "stream",
     "text": [
      "   period originName  quantity    quantity-units\n",
      "0  20-Jan    Ecuador       730  thousand barrels\n",
      "1  20-Jan     Canada        87  thousand barrels\n",
      "2  20-Jan     Canada        47  thousand barrels\n",
      "3  20-Jan     Canada       344  thousand barrels\n",
      "4  20-Jan     Canada       467  thousand barrels\n"
     ]
    }
   ],
   "source": [
    "import pandas as pd\n",
    "\n",
    "# 讀取 CSV 檔案到 DataFrame\n",
    "file_path = \"data/eia_crude_oil_imports_revised.csv\"\n",
    "df = pd.read_csv(file_path)\n",
    "\n",
    "# 檢視 DataFrame\n",
    "print(df.head())  # 顯示前五筆資料"
   ]
  },
  {
   "cell_type": "markdown",
   "metadata": {},
   "source": [
    "針對出口地，將資料整理成每月的各原油出口量"
   ]
  },
  {
   "cell_type": "code",
   "execution_count": 2,
   "metadata": {},
   "outputs": [
    {
     "name": "stdout",
     "output_type": "stream",
     "text": [
      "category   period   Brent  Dubai  Unknown      WTI\n",
      "0         2020-01   45402  28042   175105  1142575\n",
      "1         2020-02   39431  23156   159859  1100967\n",
      "2         2020-03   20594  41608   176848  1127217\n",
      "3         2020-04   31255   9933   116340  1006635\n",
      "4         2020-05   54600    917   302148   963186\n",
      "5         2020-06   59143  15778   297227   970375\n",
      "6         2020-07   16562  18879   187061  1059107\n",
      "7         2020-08   39704  22531   102084   990005\n",
      "8         2020-09   40495  18004    94269   980714\n",
      "9         2020-10   51835  31507   104909   963207\n",
      "10        2020-11   52976  22232    85519  1019858\n",
      "11        2020-12   71386  13503    43463  1121827\n",
      "12        2021-01   76482  25228    71295  1096102\n",
      "13        2021-02   80143  10885    78792   931847\n",
      "14        2021-03   73141  63919    96270   940619\n",
      "15        2021-04   87374  43526   114310   977410\n",
      "16        2021-05   78253  64904    96866  1033501\n",
      "17        2021-06  105511  64253   129332  1097985\n",
      "18        2021-07  103054  66206   146552  1072582\n",
      "19        2021-08  103558  67452   121338  1060969\n",
      "20        2021-09   74543  49308   149380  1097054\n",
      "21        2021-10  116364  57193   171978  1132192\n",
      "22        2021-11   59864  43967   153601  1072638\n",
      "23        2021-12   81291  28735   160412  1124585\n",
      "24        2022-01   67620  17136   176701  1126748\n",
      "25        2022-02   63896  21644   135604   986160\n",
      "26        2022-03   58114  29526   152488  1152340\n",
      "27        2022-04   64638   9954   150157  1047760\n",
      "28        2022-05   73017   5208   145418  1113861\n",
      "29        2022-06  106001   1976   230832  1251226\n",
      "30        2022-07   80402  15624   194985  1140566\n",
      "31        2022-08   83944   5264   142989  1142078\n",
      "32        2022-09   71554      0   136129  1108807\n",
      "33        2022-10   91819  11193   140875  1110067\n",
      "34        2022-11   92267   1267   156233  1063307\n",
      "35        2022-12   72093      0   178647  1058169\n",
      "36        2023-01   69471   6090   143732   885640\n",
      "37        2023-02   59969   7301   138005  1094352\n",
      "38        2023-03   69293      0   157129  1147839\n",
      "39        2023-04  119434  10325   124523  1051974\n",
      "40        2023-05  101486   5166   112952  1183245\n",
      "41        2023-06   88760   7574   124908  1147461\n",
      "42        2023-07   70070  12999   135149  1149925\n",
      "43        2023-08  100765   7917   153587  1254232\n",
      "44        2023-09   60009  12904   120128  1025511\n",
      "45        2023-10   62825  13426   115423  1138284\n",
      "46        2023-11   73724  12313    89705  1278690\n",
      "47        2023-12   81312   2163    98518  1211343\n",
      "48        2024-01   85449  14154   100800  1237411\n",
      "49        2024-02   95424   5523    83769  1142078\n",
      "50        2024-03   95256   8645   125356  1114981\n",
      "51        2024-04   74502  11242   126598  1201272\n",
      "52        2024-05   97958   3808   136780  1287461\n",
      "53        2024-06   72310  12264   118601  1195866\n",
      "54        2024-07   93072   8764   116858  1326668\n",
      "55        2024-08   90510   7518   110705  1163232\n",
      "56        2024-09   87290  10227   123585  1134469\n"
     ]
    }
   ],
   "source": [
    "Brent = [\"Cameroon\", \"Angola\", \"United Kingdom\", \"Norway\", \"Nigeria\", \"Libya\", \"Ghana\", \"Italy\", \"Congo-Brazzaville\", \n",
    "         \"Algeria\", \"South Sudan\", \"Netherlands\", \"Gabon\", \"Tunisia\", \"Equatorial Guinea\", \"Cote d'Ivoire\", \"Chad\" ]\n",
    "Wti = [\"Ecuador\", \"Canada\", \"Colombia\", \"Brazil\", \"Argentina\", \"Trinidad and Tobago\", \"Peru\", \"Mexico\", \"Guyana\", \n",
    "       \"Guatemala\", \"Panama\", \"Venezuela\"]\n",
    "Dubai = [\"Brunei\", \"Saudi Arabia\", \"Kuwait\", \"Iraq\", \"Egypt\", \"Vietnam\", \"United Arab Emirates\", \"Indonesia\", \"Qatar\"]\n",
    "other = [\"Russia\", \"Kazakhstan\", \"The Bahamas\", \"Country not known\", \"Australia\"]\n",
    "\n",
    "def classify_origin(origin):\n",
    "    if origin in Brent:\n",
    "        return \"Brent\"\n",
    "    elif origin in Wti:\n",
    "        return \"WTI\"\n",
    "    elif origin in Dubai:\n",
    "        return \"Dubai\"\n",
    "    else:\n",
    "        return \"Unknown\"\n",
    "    \n",
    "def parse_date(date):\n",
    "    # 分離年份和月份\n",
    "    year = int(date[:2]) + 2000  # 將 \"20\" 轉為 2020，\"24\" 轉為 2024\n",
    "    month = date[3:]  # 提取月份\n",
    "    return f\"1-{month}-{year}\"  # 返回標準日期格式，例如 \"1-Jan-2020\"\n",
    "\n",
    "    \n",
    "\n",
    "df['period'] = df['period'].apply(parse_date)\n",
    "df['period'] = pd.to_datetime(df['period'], format='%d-%b-%Y')\n",
    "df['period'] = df['period'].dt.to_period('M').astype(str)\n",
    "\n",
    "df['category'] = df['originName'].apply(classify_origin)\n",
    "\n",
    "# 創建一個新的 DataFrame，將數據按照基準重構\n",
    "pivot_df = df.pivot_table(\n",
    "    index='period',  # 使用 period 作為行索引\n",
    "    columns='category',  # 使用 category 作為列\n",
    "    values='quantity',  # 對 quantity 進行聚合\n",
    "    aggfunc='sum',  # 聚合方法為求和\n",
    "    fill_value=0  # 如果沒有數據，填充為 0\n",
    ").reset_index()\n",
    "\n",
    "# 將結果保存為新的 CSV（可選）\n",
    "pivot_df.to_csv(\"monthly_export_data.csv\", index=False, encoding='utf-8')\n",
    "\n",
    "# 打印結果\n",
    "print(pivot_df)"
   ]
  },
  {
   "cell_type": "markdown",
   "metadata": {},
   "source": [
    "針對出口量進行週期性加權平滑處理(將月資料調整成日資料)"
   ]
  },
  {
   "cell_type": "code",
   "execution_count": 6,
   "metadata": {},
   "outputs": [
    {
     "name": "stdout",
     "output_type": "stream",
     "text": [
      "    period  Brent  Dubai  Unknown      WTI\n",
      "0  2020-01  45402  28042   175105  1142575\n",
      "1  2020-02  39431  23156   159859  1100967\n",
      "2  2020-03  20594  41608   176848  1127217\n",
      "3  2020-04  31255   9933   116340  1006635\n",
      "4  2020-05  54600    917   302148   963186\n"
     ]
    }
   ],
   "source": [
    "import numpy as np\n",
    "# 讀取 CSV 檔案到 DataFrame\n",
    "file_path = \"data/monthly_export_data.csv\"\n",
    "df = pd.read_csv(file_path)\n",
    "\n",
    "# 檢視 DataFrame\n",
    "print(df.head())  # 顯示前五筆資料"
   ]
  },
  {
   "cell_type": "code",
   "execution_count": null,
   "metadata": {},
   "outputs": [
    {
     "name": "stdout",
     "output_type": "stream",
     "text": [
      "           date  Brent_daily  Dubai_daily  Unknown_daily  WTI_daily\n",
      "0    2020-01-01      1392.70       860.18        5371.32   35048.31\n",
      "1    2020-01-02      1392.70       860.18        5371.32   35048.31\n",
      "2    2020-01-03      1392.70       860.18        5371.32   35048.31\n",
      "3    2020-01-04      1671.24      1032.22        6445.58   42057.98\n",
      "4    2020-01-05      1671.24      1032.22        6445.58   42057.98\n",
      "...         ...          ...          ...            ...        ...\n",
      "1730 2024-09-26      2744.97       321.60        3886.32   35675.13\n",
      "1731 2024-09-27      2744.97       321.60        3886.32   35675.13\n",
      "1732 2024-09-28      3293.96       385.92        4663.58   42810.15\n",
      "1733 2024-09-29      3293.96       385.92        4663.58   42810.15\n",
      "1734 2024-09-30      2744.97       321.60        3886.32   35675.13\n",
      "\n",
      "[1735 rows x 5 columns]\n"
     ]
    }
   ],
   "source": [
    "def expand_to_daily(row, column):\n",
    "    # 獲取月份和數據總量\n",
    "    period = pd.to_datetime(row['period'])\n",
    "    total_quantity = row[column]\n",
    "    \n",
    "    # 獲取該月份的所有日期\n",
    "    days_in_month = pd.date_range(start=period, periods=period.days_in_month, freq='D')\n",
    "    \n",
    "    # 設置每日權重：週末較高，平日較低（可以根據需要調整）\n",
    "    weights = np.array([1.2 if date.weekday() >= 5 else 1.0 for date in days_in_month])\n",
    "    weights /= weights.sum()  # 將權重標準化，使總和為1\n",
    "    \n",
    "    # 計算每日數據\n",
    "    daily_quantity = (total_quantity * weights).round(2)\n",
    "    \n",
    "    # 返回 DataFrame\n",
    "    return pd.DataFrame({\n",
    "        'date': days_in_month,\n",
    "        f'{column}_daily': daily_quantity\n",
    "    })\n",
    "\n",
    "# 對所有列應用展開邏輯\n",
    "daily_data = pd.DataFrame({'date': []})  # 用於存放展開數據\n",
    "for column in [\"Brent\", \"Dubai\", \"Unknown\", \"WTI\"]:\n",
    "    expanded_data = pd.concat([expand_to_daily(row, column) for _, row in df.iterrows()])\n",
    "    daily_data = pd.merge(daily_data, expanded_data, on='date', how='outer') if not daily_data.empty else expanded_data\n",
    "\n",
    "# 打印結果\n",
    "print(daily_data)\n",
    "daily_data.to_csv(\"daily_export_data.csv\", index=False, encoding='utf-8')"
   ]
  },
  {
   "cell_type": "markdown",
   "metadata": {},
   "source": [
    "針對price進行插值填補，修補缺失值"
   ]
  },
  {
   "cell_type": "code",
   "execution_count": 14,
   "metadata": {},
   "outputs": [
    {
     "name": "stdout",
     "output_type": "stream",
     "text": [
      "       date    WTI  Dubai  Brent  exchange rate\n",
      "0  2020/1/2  61.14  65.41  67.43         30.114\n",
      "1  2020/1/3  62.97  67.95  69.72         30.105\n",
      "2  2020/1/6  63.24  68.16  69.82         30.110\n",
      "3  2020/1/7  62.67  69.35  70.51         30.082\n",
      "4  2020/1/8  59.62  65.44  66.57         30.087\n"
     ]
    }
   ],
   "source": [
    "file_path = \"data/price.csv\"\n",
    "df = pd.read_csv(file_path)\n",
    "\n",
    "print(df.head())  # 顯示前五筆資料"
   ]
  },
  {
   "cell_type": "code",
   "execution_count": 18,
   "metadata": {},
   "outputs": [
    {
     "name": "stdout",
     "output_type": "stream",
     "text": [
      "           date    WTI  Dubai  Brent  exchange rate\n",
      "0    2020-01-01  61.14  65.41  67.43          30.11\n",
      "1    2020-01-02  61.14  65.41  67.43          30.11\n",
      "2    2020-01-03  62.97  67.95  69.72          30.10\n",
      "3    2020-01-04  63.06  68.02  69.75          30.11\n",
      "4    2020-01-05  63.15  68.09  69.79          30.11\n",
      "...         ...    ...    ...    ...            ...\n",
      "1804 2024-12-09  68.65  72.55  73.73          32.47\n",
      "1805 2024-12-10  68.85  72.69  73.64          32.44\n",
      "1806 2024-12-11  70.57  74.35  74.38          32.51\n",
      "1807 2024-12-12  70.25  74.22  73.52          32.49\n",
      "1808 2024-12-13  71.54  75.16  74.89          32.51\n",
      "\n",
      "[1809 rows x 5 columns]\n"
     ]
    }
   ],
   "source": [
    "# 將日期轉換為 datetime 格式\n",
    "df['date'] = pd.to_datetime(df['date'])\n",
    "\n",
    "# 1. 生成完整日期範圍\n",
    "full_date_range = pd.date_range(start=\"2020-01-01\", end=df['date'].max(), freq='D')\n",
    "\n",
    "# 2. 補齊缺失日期，並以 NaN 填充缺失數據\n",
    "df = df.set_index('date')  # 將日期設為索引\n",
    "df = df.reindex(full_date_range, fill_value=None)  # 填補缺失日期\n",
    "df.index.name = 'date'  # 重命名索引列為 'date'\n",
    "\n",
    "# 3. 使用插值填補缺失值\n",
    "df = df.interpolate(method='linear', limit_direction='both')  # 線性插值\n",
    "\n",
    "df = df.round(2)\n",
    "\n",
    "# 4. 重置索引為普通列\n",
    "df = df.reset_index()\n",
    "\n",
    "\n",
    "# 打印結果\n",
    "print(df)\n",
    "\n",
    "df.to_csv(\"daily_price.csv\", index=False, encoding='utf-8')"
   ]
  },
  {
   "cell_type": "markdown",
   "metadata": {},
   "source": [
    "計算歷史每日漲幅"
   ]
  },
  {
   "cell_type": "code",
   "execution_count": 3,
   "metadata": {},
   "outputs": [
    {
     "name": "stdout",
     "output_type": "stream",
     "text": [
      "       date  WTI_export  Dubai_export  Brent_export  Unknown_export  \\\n",
      "0  2020/1/1    35048.31        860.18       1392.70         5371.32   \n",
      "1  2020/1/2    35048.31        860.18       1392.70         5371.32   \n",
      "2  2020/1/3    35048.31        860.18       1392.70         5371.32   \n",
      "3  2020/1/4    42057.98       1032.22       1671.24         6445.58   \n",
      "4  2020/1/5    42057.98       1032.22       1671.24         6445.58   \n",
      "\n",
      "   WTI_price  Dubai_price  Brent_price  exchange rate  \n",
      "0      61.14        65.41        67.43          30.11  \n",
      "1      61.14        65.41        67.43          30.11  \n",
      "2      62.97        67.95        69.72          30.10  \n",
      "3      63.06        68.02        69.75          30.11  \n",
      "4      63.15        68.09        69.79          30.11  \n"
     ]
    }
   ],
   "source": [
    "file_path = \"all_data.csv\"\n",
    "df = pd.read_csv(file_path)\n",
    "\n",
    "print(df.head())  # 顯示前五筆資料"
   ]
  },
  {
   "cell_type": "code",
   "execution_count": 10,
   "metadata": {},
   "outputs": [
    {
     "name": "stdout",
     "output_type": "stream",
     "text": [
      "            date  WTI_export  Dubai_export  Brent_export  Unknown_export  \\\n",
      "0       2020/1/1    35048.31        860.18       1392.70         5371.32   \n",
      "1       2020/1/2    35048.31        860.18       1392.70         5371.32   \n",
      "2       2020/1/3    35048.31        860.18       1392.70         5371.32   \n",
      "3       2020/1/4    42057.98       1032.22       1671.24         6445.58   \n",
      "4       2020/1/5    42057.98       1032.22       1671.24         6445.58   \n",
      "...          ...         ...           ...           ...             ...   \n",
      "1804   2024/12/9         NaN           NaN           NaN             NaN   \n",
      "1805  2024/12/10         NaN           NaN           NaN             NaN   \n",
      "1806  2024/12/11         NaN           NaN           NaN             NaN   \n",
      "1807  2024/12/12         NaN           NaN           NaN             NaN   \n",
      "1808  2024/12/13         NaN           NaN           NaN             NaN   \n",
      "\n",
      "      WTI_price  Dubai_price  Brent_price  exchange rate  WTI_change  \\\n",
      "0         61.14        65.41        67.43          30.11         NaN   \n",
      "1         61.14        65.41        67.43          30.11        0.00   \n",
      "2         62.97        67.95        69.72          30.10        2.99   \n",
      "3         63.06        68.02        69.75          30.11        0.14   \n",
      "4         63.15        68.09        69.79          30.11        0.14   \n",
      "...         ...          ...          ...            ...         ...   \n",
      "1804      68.65        72.55        73.73          32.47        0.79   \n",
      "1805      68.85        72.69        73.64          32.44        0.29   \n",
      "1806      70.57        74.35        74.38          32.51        2.50   \n",
      "1807      70.25        74.22        73.52          32.49       -0.45   \n",
      "1808      71.54        75.16        74.89          32.51        1.84   \n",
      "\n",
      "      Dubai_change  Brent_change  \n",
      "0              NaN           NaN  \n",
      "1             0.00          0.00  \n",
      "2             3.88          3.40  \n",
      "3             0.10          0.04  \n",
      "4             0.10          0.06  \n",
      "...            ...           ...  \n",
      "1804          0.12          0.44  \n",
      "1805          0.19         -0.12  \n",
      "1806          2.28          1.00  \n",
      "1807         -0.17         -1.16  \n",
      "1808          1.27          1.86  \n",
      "\n",
      "[1809 rows x 12 columns]\n"
     ]
    }
   ],
   "source": [
    "# 計算每日漲幅 (百分比變化)\n",
    "df['WTI_change'] = df['WTI_price'].pct_change() * 100  # 計算 WTI 的漲幅\n",
    "df['Dubai_change'] = df['Dubai_price'].pct_change() * 100  # 計算 Dubai 的漲幅\n",
    "df['Brent_change'] = df['Brent_price'].pct_change() * 100  # 計算 Brent 的漲幅\n",
    "\n",
    "# 將小數點保留到第二位\n",
    "df = df.round(2)\n",
    "\n",
    "# 打印結果\n",
    "print(df)\n",
    "df.to_csv(\"data.csv\", index=False, encoding='utf-8')"
   ]
  },
  {
   "cell_type": "markdown",
   "metadata": {},
   "source": [
    "運用線性插植處理美金指標的缺失值"
   ]
  },
  {
   "cell_type": "code",
   "execution_count": 37,
   "metadata": {},
   "outputs": [
    {
     "name": "stdout",
     "output_type": "stream",
     "text": [
      "         Date  Price\n",
      "0  01/01/2020  96.39\n",
      "1  01/02/2020  96.85\n",
      "2  01/03/2020  96.84\n",
      "3  01/06/2020  96.67\n",
      "4  01/07/2020  97.00\n"
     ]
    }
   ],
   "source": [
    "file_path = \"data/US Dollar Index Historical Data (1).csv\"\n",
    "df = pd.read_csv(file_path)\n",
    "\n",
    "print(df.head())  # 顯示前五筆資料"
   ]
  },
  {
   "cell_type": "code",
   "execution_count": 33,
   "metadata": {},
   "outputs": [
    {
     "name": "stdout",
     "output_type": "stream",
     "text": [
      "Date      object\n",
      "Price    float64\n",
      "dtype: object\n"
     ]
    }
   ],
   "source": [
    "print(df.dtypes)\n"
   ]
  },
  {
   "cell_type": "code",
   "execution_count": 40,
   "metadata": {},
   "outputs": [
    {
     "name": "stdout",
     "output_type": "stream",
     "text": [
      "        Date  Price\n",
      "0 2020-01-01  96.39\n",
      "1 2020-01-02  96.85\n",
      "2 2020-01-03  96.84\n",
      "3 2020-01-04  96.78\n",
      "4 2020-01-05  96.73\n"
     ]
    }
   ],
   "source": [
    "# 1. 確保日期格式正確\n",
    "df['Date'] = pd.to_datetime(df['Date'], format='%m/%d/%Y')  # 根據數據格式轉換\n",
    "\n",
    "# 2. 設置日期為索引\n",
    "df = df.set_index('Date')\n",
    "\n",
    "# 3. 生成完整的日期範圍\n",
    "full_date_range = pd.date_range(start=df.index.min(), end=df.index.max(), freq='D')\n",
    "\n",
    "# 4. 補全缺失日期\n",
    "df = df.reindex(full_date_range, fill_value=None)\n",
    "df.index.name = 'Date'\n",
    "\n",
    "# 5. 對 `Price` 列進行線性插值\n",
    "df['Price'] = df['Price'].interpolate(method='linear')\n",
    "\n",
    "df = df.round(2)\n",
    "\n",
    "# 6. 重置索引為普通列\n",
    "df = df.reset_index()\n",
    "\n",
    "# 7. 檢查結果\n",
    "print(df.head())\n",
    "df.to_csv(\"data/daily_US Dollar Index Historical Data.csv\", index=False, encoding='utf-8')"
   ]
  },
  {
   "cell_type": "code",
   "execution_count": null,
   "metadata": {},
   "outputs": [],
   "source": []
  }
 ],
 "metadata": {
  "kernelspec": {
   "display_name": "base",
   "language": "python",
   "name": "python3"
  },
  "language_info": {
   "codemirror_mode": {
    "name": "ipython",
    "version": 3
   },
   "file_extension": ".py",
   "mimetype": "text/x-python",
   "name": "python",
   "nbconvert_exporter": "python",
   "pygments_lexer": "ipython3",
   "version": "3.8.8"
  }
 },
 "nbformat": 4,
 "nbformat_minor": 2
}
